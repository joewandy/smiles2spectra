{
 "cells": [
  {
   "cell_type": "code",
   "execution_count": 1,
   "metadata": {
    "collapsed": true
   },
   "outputs": [],
   "source": [
    "import csv"
   ]
  },
  {
   "cell_type": "code",
   "execution_count": 3,
   "metadata": {},
   "outputs": [],
   "source": [
    "fprints = {}\n",
    "with open('smiles_sub.csv','r') as f:\n",
    "    reader = csv.reader(f)\n",
    "    for line in reader:\n",
    "        fprints[line[0]] = [int(i) for i in line[1:]]"
   ]
  },
  {
   "cell_type": "code",
   "execution_count": 5,
   "metadata": {},
   "outputs": [],
   "source": [
    "import numpy as np"
   ]
  },
  {
   "cell_type": "code",
   "execution_count": 7,
   "metadata": {
    "collapsed": true
   },
   "outputs": [],
   "source": [
    "n_smiles = len(fprints)\n",
    "n_f = 307 # we shall see\n",
    "smiles_index = {}\n",
    "smiles_pos = 0\n",
    "fp_mat = np.zeros((n_smiles,n_f),np.int)\n",
    "for smiles in fprints:\n",
    "    smiles_index[smiles] = smiles_pos\n",
    "    for col in fprints[smiles]:\n",
    "        fp_mat[smiles_pos][col] = 1\n",
    "    smiles_pos += 1"
   ]
  },
  {
   "cell_type": "code",
   "execution_count": 8,
   "metadata": {
    "collapsed": true
   },
   "outputs": [],
   "source": [
    "import pylab as plt\n",
    "%matplotlib inline"
   ]
  },
  {
   "cell_type": "code",
   "execution_count": 9,
   "metadata": {},
   "outputs": [
    {
     "data": {
      "text/plain": [
       "<matplotlib.image.AxesImage at 0x109679ad0>"
      ]
     },
     "execution_count": 9,
     "metadata": {},
     "output_type": "execute_result"
    },
    {
     "data": {
      "image/png": "[encoded data removed]",
      "text/plain": [
       "<matplotlib.figure.Figure at 0x10960b790>"
      ]
     },
     "metadata": {},
     "output_type": "display_data"
    }
   ],
   "source": [
    "plt.imshow(fp_mat,aspect='auto')"
   ]
  },
  {
   "cell_type": "code",
   "execution_count": 12,
   "metadata": {
    "collapsed": true
   },
   "outputs": [],
   "source": [
    "substructures = []\n",
    "with open('substructures.txt','r') as f:\n",
    "    for line in f:\n",
    "        substructures.append(line.strip())"
   ]
  },
  {
   "cell_type": "code",
   "execution_count": 17,
   "metadata": {},
   "outputs": [],
   "source": [
    "s = fp_mat.sum(axis=0)\n",
    "sub_count = []\n",
    "for i,sub in enumerate(substructures):\n",
    "    sub_count.append((sub,s[i]))\n",
    "sub_count = sorted(sub_count,key = lambda x: x[1],reverse = True)\n",
    "with open('sub_counts.csv','w') as f:\n",
    "    writer = csv.writer(f,dialect='excel')\n",
    "    for s,c in sub_count:\n",
    "        writer.writerow([s,c])"
   ]
  },
  {
   "cell_type": "code",
   "execution_count": null,
   "metadata": {
    "collapsed": true
   },
   "outputs": [],
   "source": []
  }
 ],
 "metadata": {
  "kernelspec": {
   "display_name": "Python [conda env:smiles2spectra]",
   "language": "python",
   "name": "conda-env-smiles2spectra-py"
  },
  "language_info": {
   "codemirror_mode": {
    "name": "ipython",
    "version": 3
   },
   "file_extension": ".py",
   "mimetype": "text/x-python",
   "name": "python",
   "nbconvert_exporter": "python",
   "pygments_lexer": "ipython3",
   "version": "3.6.5"
  }
 },
 "nbformat": 4,
 "nbformat_minor": 2
}
