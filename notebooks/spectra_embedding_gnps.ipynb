{
 "cells": [
  {
   "cell_type": "markdown",
   "metadata": {},
   "source": [
    "# Fragmentation spectra embedding"
   ]
  },
  {
   "cell_type": "code",
   "execution_count": 1,
   "metadata": {},
   "outputs": [],
   "source": [
    "%load_ext autoreload\n",
    "%autoreload 2"
   ]
  },
  {
   "cell_type": "code",
   "execution_count": 2,
   "metadata": {},
   "outputs": [
    {
     "name": "stderr",
     "output_type": "stream",
     "text": [
      "Using TensorFlow backend.\n"
     ]
    }
   ],
   "source": [
    "import glob\n",
    "\n",
    "from ms2lda_feature_extraction import LoadMSP, LoadGNPS, LoadMGF, LoadGNPSSeperateCollisions\n",
    "from keras.callbacks import History, ReduceLROnPlateau, EarlyStopping\n",
    "from livelossplot import PlotLossesKeras\n",
    "import numpy as np\n",
    "\n",
    "from functions import *"
   ]
  },
  {
   "cell_type": "code",
   "execution_count": 3,
   "metadata": {},
   "outputs": [],
   "source": [
    "if is_notebook():\n",
    "    # import mpld3    \n",
    "    %matplotlib inline\n",
    "    # mpld3.enable_notebook()"
   ]
  },
  {
   "cell_type": "code",
   "execution_count": 4,
   "metadata": {},
   "outputs": [
    {
     "name": "stdout",
     "output_type": "stream",
     "text": [
      "Processed 100 spectra\n",
      "Processed 200 spectra\n",
      "Processed 300 spectra\n",
      "Processed 400 spectra\n",
      "Processed 500 spectra\n",
      "Processed 600 spectra\n",
      "Processed 700 spectra\n",
      "Processed 800 spectra\n",
      "Processed 900 spectra\n",
      "Processed 1000 spectra\n",
      "Processed 1100 spectra\n",
      "Processed 1200 spectra\n",
      "Processed 1300 spectra\n",
      "Processed 1400 spectra\n",
      "Processed 1500 spectra\n",
      "Processed 1600 spectra\n",
      "Processed 1700 spectra\n",
      "Processed 1800 spectra\n",
      "Processed 1900 spectra\n",
      "Processed 2000 spectra\n",
      "Processed 2100 spectra\n",
      "Processed 2200 spectra\n",
      "Processed 2300 spectra\n",
      "Processed 2400 spectra\n",
      "Processed 2500 spectra\n",
      "Processed 2600 spectra\n",
      "Processed 2700 spectra\n",
      "Processed 2800 spectra\n",
      "Processed 2900 spectra\n",
      "Processed 3000 spectra\n",
      "Processed 3100 spectra\n",
      "Processed 3200 spectra\n",
      "Processed 3300 spectra\n",
      "Processed 3400 spectra\n",
      "Processed 3500 spectra\n",
      "Processed 3600 spectra\n",
      "Processed 3700 spectra\n",
      "Processed 3800 spectra\n",
      "Processed 3900 spectra\n",
      "Processed 4000 spectra\n",
      "Processed 4100 spectra\n",
      "Processed 4200 spectra\n",
      "Processed 4300 spectra\n",
      "Processed 4400 spectra\n",
      "Processed 4500 spectra\n",
      "Processed 4600 spectra\n",
      "Processed 4700 spectra\n",
      "Processed 4800 spectra\n",
      "Processed 4900 spectra\n",
      "Processed 5000 spectra\n",
      "Processed 5100 spectra\n",
      "Processed 5200 spectra\n",
      "Processed 5300 spectra\n",
      "Processed 5400 spectra\n",
      "Processed 5500 spectra\n",
      "Processed 5600 spectra\n",
      "Processed 5700 spectra\n",
      "Processed 5800 spectra\n",
      "Processed 5900 spectra\n",
      "Processed 6000 spectra\n",
      "Processed 6100 spectra\n",
      "Processed 6200 spectra\n",
      "Processed 6300 spectra\n",
      "Processed 6400 spectra\n",
      "Processed 6500 spectra\n",
      "Processed 6600 spectra\n",
      "Processed 6700 spectra\n",
      "Processed 6800 spectra\n",
      "Processed 6900 spectra\n",
      "Processed 7000 spectra\n",
      "Processed 7100 spectra\n",
      "Processed 7200 spectra\n",
      "Processed 7300 spectra\n",
      "Processed 7400 spectra\n",
      "Processed 7500 spectra\n",
      "Processed 7600 spectra\n",
      "Processed 7700 spectra\n",
      "Processed 7800 spectra\n",
      "Processed 7900 spectra\n"
     ]
    }
   ],
   "source": [
    "input_dir = '../data/fingerid-104-traindata/spectra_gnps_massbank'\n",
    "input_set = glob.glob(input_dir + '/*.ms')\n",
    "l = LoadGNPS()\n",
    "# l = LoadGNPSSeperateCollisions()\n",
    "ms1, ms2, metadata = l.load_spectra(input_set)"
   ]
  },
  {
   "cell_type": "code",
   "execution_count": 5,
   "metadata": {},
   "outputs": [],
   "source": [
    "def make_spec_matrix(ms1, ms2, min_frag_mz=20, max_frag_mz=500, normalise=1000.0):\n",
    "    doc_index = {}\n",
    "    n_docs = len(ms1)\n",
    "    i = 0\n",
    "    for m in ms1:\n",
    "        doc_index[m.name] = i\n",
    "        i += 1\n",
    "    n_words = max_frag_mz - min_frag_mz + 1\n",
    "    n_docs = len(doc_index)\n",
    "    doc_matrix = np.zeros((n_docs,n_words),np.double)\n",
    "    for m in ms2:\n",
    "        mz = m[0]\n",
    "        mz_int = (int)(np.round(mz))\n",
    "        doc_pos = doc_index[m[3].name]\n",
    "        if mz_int <= max_frag_mz and mz_int >= min_frag_mz:\n",
    "            mz_pos = mz_int - min_frag_mz\n",
    "            doc_matrix[doc_pos,mz_pos] += m[2]\n",
    "            \n",
    "    s = doc_matrix.sum(axis=1)\n",
    "    toremove = []\n",
    "    for doc,doc_pos in doc_index.items():\n",
    "        if s[doc_pos] == 0:\n",
    "            toremove.append(doc)\n",
    "    \n",
    "    for doc in toremove:\n",
    "        doc_pos = doc_index[doc]\n",
    "        doc_matrix = np.delete(doc_matrix,(doc_pos),axis=0)\n",
    "        del doc_index[doc]\n",
    "        for d,p in doc_index.items():\n",
    "            if p > doc_pos:\n",
    "                doc_index[d] -= 1\n",
    "    \n",
    "    if normalise > 0:\n",
    "        s = doc_matrix.max(axis=1)\n",
    "        s = s[:,None]\n",
    "        doc_matrix *= (normalise/s)\n",
    "\n",
    "    return doc_index, doc_matrix"
   ]
  },
  {
   "cell_type": "code",
   "execution_count": 6,
   "metadata": {},
   "outputs": [],
   "source": [
    "min_frag_mz = 20\n",
    "max_frag_mz = 900\n",
    "normalise = 1.0\n",
    "doc_index, doc_matrix = make_spec_matrix(ms1, ms2, min_frag_mz, max_frag_mz, normalise)"
   ]
  },
  {
   "cell_type": "code",
   "execution_count": 7,
   "metadata": {},
   "outputs": [],
   "source": [
    "data = {\n",
    "    'vocab': np.arange(min_frag_mz, max_frag_mz+1),\n",
    "    'spectra': doc_matrix,\n",
    "    'doc_index': doc_index,\n",
    "    'metadata': metadata\n",
    "}"
   ]
  },
  {
   "cell_type": "code",
   "execution_count": 8,
   "metadata": {},
   "outputs": [
    {
     "name": "stderr",
     "output_type": "stream",
     "text": [
      "/Users/joewandy/anaconda/envs/smiles2spectra/lib/python3.6/site-packages/keras/callbacks.py:928: UserWarning: `epsilon` argument is deprecated and will be removed, use `min_delta` insted.\n",
      "  warnings.warn('`epsilon` argument is deprecated and '\n"
     ]
    }
   ],
   "source": [
    "rlr = ReduceLROnPlateau(monitor='val_loss', factor=0.5,patience=10, min_lr=0.000001,\n",
    "                        verbose=1, epsilon=1e-5)\n",
    "early_stop = EarlyStopping(monitor='val_loss', min_delta=0, patience=3, verbose=1, mode='auto')\n",
    "callbacks = [rlr, early_stop]\n",
    "if is_notebook():\n",
    "    callbacks.append(PlotLossesKeras())"
   ]
  },
  {
   "cell_type": "code",
   "execution_count": 9,
   "metadata": {},
   "outputs": [],
   "source": [
    "original_dim = data['spectra'].shape[1]\n",
    "latent_dim = 100\n",
    "batch_size = 32\n",
    "epochs = 200"
   ]
  },
  {
   "cell_type": "code",
   "execution_count": 10,
   "metadata": {
    "scrolled": false
   },
   "outputs": [
    {
     "name": "stdout",
     "output_type": "stream",
     "text": [
      "_________________________________________________________________\n",
      "Layer (type)                 Output Shape              Param #   \n",
      "=================================================================\n",
      "input_1 (InputLayer)         (None, 881)               0         \n",
      "_________________________________________________________________\n",
      "dense_1 (Dense)              (None, 100)               88200     \n",
      "_________________________________________________________________\n",
      "dense_2 (Dense)              (None, 881)               88981     \n",
      "=================================================================\n",
      "Total params: 177,181\n",
      "Trainable params: 177,181\n",
      "Non-trainable params: 0\n",
      "_________________________________________________________________\n"
     ]
    }
   ],
   "source": [
    "autoencoder, encoder, decoder = get_simple_model(original_dim, original_dim, latent_dim)\n",
    "autoencoder.summary()"
   ]
  },
  {
   "cell_type": "code",
   "execution_count": 11,
   "metadata": {},
   "outputs": [],
   "source": [
    "pos = int(len(data['spectra']) * 0.8)\n",
    "spectra_train = data['spectra'][0:pos, :]\n",
    "spectra_test = data['spectra'][pos:, :]"
   ]
  },
  {
   "cell_type": "code",
   "execution_count": 12,
   "metadata": {},
   "outputs": [
    {
     "data": {
      "image/png": "[encoded data removed]",
      "text/plain": [
       "<Figure size 864x576 with 1 Axes>"
      ]
     },
     "metadata": {},
     "output_type": "display_data"
    },
    {
     "name": "stdout",
     "output_type": "stream",
     "text": [
      "Epoch 00069: early stopping\n"
     ]
    },
    {
     "data": {
      "text/plain": [
       "<keras.callbacks.History at 0xb5c8f0630>"
      ]
     },
     "execution_count": 12,
     "metadata": {},
     "output_type": "execute_result"
    }
   ],
   "source": [
    "autoencoder.fit(spectra_train, spectra_train,\n",
    "                epochs=epochs,\n",
    "                batch_size=batch_size,\n",
    "                shuffle=True,\n",
    "                validation_data=(spectra_test, spectra_test),\n",
    "                callbacks=callbacks)"
   ]
  },
  {
   "cell_type": "code",
   "execution_count": 13,
   "metadata": {},
   "outputs": [
    {
     "name": "stdout",
     "output_type": "stream",
     "text": [
      "[ 46  48  50  51  53  55  57  58  59  60  65  67  68  69  70  71  72  74\n",
      "  77  78  80  83  85  87  90  91  93  94  96  97  98  99 101 102 103 104\n",
      " 106 107 108 109 110 111 114 115 117 118 119 121 123 124 125 126 127 128\n",
      " 131 132 135 137 138 139 143 145 146 147 150 151 152 153 154 155 159 161\n",
      " 162 163 165 166 167 168 169 170 171 172 174 175 178 179 180 181 182 183\n",
      " 184 185 186 188 189 192 197 202 204 206 209 210 211 212 225 226 228 229\n",
      " 233 242 243 244 246 247 252 253 254 255 266 270 271 272 273 274 287 288\n",
      " 289 292 309 310 317 333 334 335 336 337 338 339 340 343 346 347 349 350\n",
      " 351 352 353 354 355 356 357 358 366 370 374 378 379 380 381 394 395 396\n",
      " 428 432 439 453 458 491 492 493 587 631]\n"
     ]
    },
    {
     "data": {
      "image/png": "[encoded data removed]",
      "text/plain": [
       "<Figure size 432x288 with 1 Axes>"
      ]
     },
     "metadata": {},
     "output_type": "display_data"
    },
    {
     "name": "stdout",
     "output_type": "stream",
     "text": [
      "[ 39  40  41  42  43  44  45  47  51  55  56  57  60  61  63  64  65  67\n",
      "  68  69  70  71  73  74  75  77  79  81  82  83  84  85  87  88  91  92\n",
      "  93  97  98 101 102 103 105 106 107 109 110 111 115 116 117 119 124 127\n",
      " 128 129 130 132 144 147]\n"
     ]
    },
    {
     "data": {
      "image/png": "[encoded data removed]",
      "text/plain": [
       "<Figure size 432x288 with 1 Axes>"
      ]
     },
     "metadata": {},
     "output_type": "display_data"
    },
    {
     "name": "stdout",
     "output_type": "stream",
     "text": [
      "[103 105 115 117 121 133 147 148 149 176 177]\n"
     ]
    },
    {
     "data": {
      "image/png": "[encoded data removed]",
      "text/plain": [
       "<Figure size 432x288 with 1 Axes>"
      ]
     },
     "metadata": {},
     "output_type": "display_data"
    },
    {
     "name": "stdout",
     "output_type": "stream",
     "text": [
      "[115 116 117 120 143 155 165 171 179 193 199 208 221 235 236 315]\n"
     ]
    },
    {
     "data": {
      "image/png": "[encoded data removed]",
      "text/plain": [
       "<Figure size 432x288 with 1 Axes>"
      ]
     },
     "metadata": {},
     "output_type": "display_data"
    },
    {
     "name": "stdout",
     "output_type": "stream",
     "text": [
      "[ 45  46  47  48  49  50  51  52  53  54  55  56  57  58  59  60  61  62\n",
      "  63  64  65  66  67  68  69  70  71  72  73  74  75  76  77  78  79  80\n",
      "  81  82  83  84  85  86  87  88  89  90  91  92  93  94  95  96  97  98\n",
      "  99 100 101 102 103 104 105 106 107 108 109 110 111 112 113 114 115 116\n",
      " 117 118 119 120 121 122 123 124 125 126 127 128 129 130 131 132 133 134\n",
      " 135 136 137 138 139 140 141 142 143 144 145 146 147 148 149 150 151 152\n",
      " 153 154 155 156 157 158 159 160 161 162 163 164 165 166 167 168 169 170\n",
      " 171 172 173 174 175 176 177 178 179 180 181 182 183 184 185 186 187 188\n",
      " 189 190 191 192 193 194 195 196 197 198 199 200 201 202 203 204 205 206\n",
      " 207 208 209 210 211 212 213 214 215 216 217 218 219 220 221 222 223 224\n",
      " 225 226 227 228 229 230 231 232 233 234 235 236 237 238 239 240 241 242\n",
      " 243 244 245 246 247 248 249 250 251 252 253 254 255 256 257 258 259 260\n",
      " 261 262 263 264 265 266 267 268 269 270 271 272 273 274 275 276 277 278\n",
      " 279 280 281 282 284 285 286 287 289 290 291 292 293 294 295 296 297 298\n",
      " 299 300 301 302 304 305 306 307 308 309 310 311 312 313 314 315 316 317\n",
      " 319 320 321 322 323 324 325 326 327 329 330 331 332 333 334 335 336 337\n",
      " 338 339 340 341 342 343 344 346 350 352 356 358 359 361 362 368 369 381\n",
      " 398 419 452 470 474 537 544 613 628 631 796 802]\n"
     ]
    },
    {
     "data": {
      "image/png": "[encoded data removed]",
      "text/plain": [
       "<Figure size 432x288 with 1 Axes>"
      ]
     },
     "metadata": {},
     "output_type": "display_data"
    }
   ],
   "source": [
    "if is_notebook():\n",
    "    spectra_encoded = encoder.predict(spectra_test)\n",
    "    spectra_decoded = -1 * decoder.predict(spectra_encoded)\n",
    "    for idx in range(5):\n",
    "        pos = np.nonzero(spectra_test[idx])\n",
    "        print(data['vocab'][pos])\n",
    "        plt.bar(data['vocab'], spectra_test[idx])\n",
    "        plt.bar(data['vocab'], spectra_decoded[idx])\n",
    "        plt.tight_layout()\n",
    "        plt.show()"
   ]
  },
  {
   "cell_type": "code",
   "execution_count": 14,
   "metadata": {},
   "outputs": [],
   "source": [
    "label = 'gnps_massbank'"
   ]
  },
  {
   "cell_type": "code",
   "execution_count": 15,
   "metadata": {},
   "outputs": [],
   "source": [
    "autoencoder.save('../models/spectra_autoencoder_%s.h5' % label)\n",
    "encoder.save('../models/spectra_encoder_%s.h5' % label)\n",
    "decoder.save('../models/spectra_decoder_%s.h5' % label)"
   ]
  },
  {
   "cell_type": "code",
   "execution_count": 16,
   "metadata": {},
   "outputs": [],
   "source": [
    "doc_smiles = [metadata[doc_name]['smiles'] for doc_name in list(data['doc_index'].keys())]\n",
    "data['smiles'] = np.array(doc_smiles)"
   ]
  },
  {
   "cell_type": "code",
   "execution_count": 17,
   "metadata": {},
   "outputs": [],
   "source": [
    "import pickle\n",
    "with open('../data/gnps_massbank_data.p', 'wb') as f:\n",
    "    pickle.dump(data, f)"
   ]
  },
  {
   "cell_type": "code",
   "execution_count": null,
   "metadata": {},
   "outputs": [],
   "source": []
  }
 ],
 "metadata": {
  "kernelspec": {
   "display_name": "Python [conda env:smiles2spectra]",
   "language": "python",
   "name": "conda-env-smiles2spectra-py"
  },
  "language_info": {
   "codemirror_mode": {
    "name": "ipython",
    "version": 3
   },
   "file_extension": ".py",
   "mimetype": "text/x-python",
   "name": "python",
   "nbconvert_exporter": "python",
   "pygments_lexer": "ipython3",
   "version": "3.6.5"
  }
 },
 "nbformat": 4,
 "nbformat_minor": 2
}
