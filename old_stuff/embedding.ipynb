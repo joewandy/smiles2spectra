{
 "cells": [
  {
   "cell_type": "markdown",
   "metadata": {},
   "source": [
    "# Mapping SMILES to Fragment Peaks"
   ]
  },
  {
   "cell_type": "markdown",
   "metadata": {},
   "source": [
    "Peaks are represented as integer bins. We can frame this as a multi-class classification problem?\n",
    "\n",
    "Input: SMILES embedding\n",
    "\n",
    "Output: integer fragment classes"
   ]
  },
  {
   "cell_type": "code",
   "execution_count": 1,
   "metadata": {},
   "outputs": [],
   "source": [
    "%load_ext autoreload\n",
    "%autoreload 2\n",
    "%matplotlib inline"
   ]
  },
  {
   "cell_type": "code",
   "execution_count": 2,
   "metadata": {},
   "outputs": [
    {
     "name": "stderr",
     "output_type": "stream",
     "text": [
      "Using TensorFlow backend.\n"
     ]
    }
   ],
   "source": [
    "import os\n",
    "from glob import glob\n",
    "import pylab as plt\n",
    "import pandas as pd\n",
    "import numpy as np\n",
    "import pickle\n",
    "from collections import Counter\n",
    "\n",
    "from sklearn.model_selection import train_test_split\n",
    "from sklearn.preprocessing import MultiLabelBinarizer\n",
    "\n",
    "from keras.models import Sequential\n",
    "from keras import layers\n",
    "from keras.layers import Dense, Dropout, Activation\n",
    "from keras.metrics import categorical_accuracy\n",
    "from livelossplot import PlotLossesKeras\n",
    "from keras.utils.vis_utils import plot_model\n",
    "\n",
    "import h5py\n",
    "\n",
    "from IPython.display import display, HTML\n",
    "from collections import defaultdict\n",
    "\n",
    "from rdkit import Chem"
   ]
  },
  {
   "cell_type": "code",
   "execution_count": 3,
   "metadata": {},
   "outputs": [],
   "source": [
    "np.random.seed(seed=1)"
   ]
  },
  {
   "cell_type": "code",
   "execution_count": 4,
   "metadata": {},
   "outputs": [],
   "source": [
    "from embedding_model import MoleculeVAE"
   ]
  },
  {
   "cell_type": "code",
   "execution_count": 5,
   "metadata": {},
   "outputs": [],
   "source": [
    "def one_hot_array(i, n):\n",
    "    return list(map(int, [ix == i for ix in range(n)]))\n",
    "\n",
    "def one_hot_index(vec, charset):\n",
    "    return map(charset.index, vec)\n",
    "\n",
    "def to_one_hot_array(smile_str, charset, max_char=120):\n",
    "        \n",
    "    filtered = []\n",
    "    for c in smile_str:\n",
    "        if c in charset:\n",
    "            filtered.append(c)\n",
    "            if len(filtered) == max_char:\n",
    "                break            \n",
    "\n",
    "    charset_list = charset.tolist()    \n",
    "    one_hot_encoded_fn = lambda row: list(map(lambda x: one_hot_array(x, len(charset_list)),\n",
    "                                                one_hot_index(row, charset_list)))\n",
    "\n",
    "    filtered_str = ''.join(filtered)\n",
    "    filtered_str = filtered_str.ljust(max_char) # pad up to max_char\n",
    "    filtered_arr = np.array(one_hot_encoded_fn(filtered_str))\n",
    "    return filtered_arr"
   ]
  },
  {
   "cell_type": "code",
   "execution_count": 6,
   "metadata": {},
   "outputs": [],
   "source": [
    "def get_input_arr(smiles_list, charset):\n",
    "    \n",
    "    input_arr = []\n",
    "    for i in range(len(smiles_list)):\n",
    "        smile = smiles_list[i]\n",
    "        one_hot_encoded = to_one_hot_array(smile, charset)\n",
    "        input_arr.append(one_hot_encoded)\n",
    "\n",
    "    input_arr = np.array(input_arr)\n",
    "    return input_arr"
   ]
  },
  {
   "cell_type": "code",
   "execution_count": 7,
   "metadata": {},
   "outputs": [],
   "source": [
    "def encode(model, input_array):\n",
    "    x_latent = model.encoder.predict(input_array)\n",
    "    return x_latent"
   ]
  },
  {
   "cell_type": "code",
   "execution_count": 8,
   "metadata": {},
   "outputs": [],
   "source": [
    "def load_data(input_file):\n",
    "    with open(input_file, 'r') as f:\n",
    "        data = []\n",
    "        for line in f:\n",
    "            tokens = line.split('\\t')\n",
    "            smile = tokens[0].strip()\n",
    "            spectra = tokens[1].strip().split(',')\n",
    "            data.append((smile, spectra, ))\n",
    "        return data"
   ]
  },
  {
   "cell_type": "code",
   "execution_count": 9,
   "metadata": {},
   "outputs": [],
   "source": [
    "def load_embedding_charset(charset_file):\n",
    "    with open(charset_file, 'rb') as f:\n",
    "        return pickle.load(f)"
   ]
  },
  {
   "cell_type": "code",
   "execution_count": 10,
   "metadata": {},
   "outputs": [],
   "source": [
    "def write_embedding_charset(charset, charset_file):\n",
    "    with open(charset_file, 'wb') as f:\n",
    "        pickle.dump(charset, f, protocol=2)"
   ]
  },
  {
   "cell_type": "markdown",
   "metadata": {},
   "source": [
    "### Load embedding"
   ]
  },
  {
   "cell_type": "code",
   "execution_count": 11,
   "metadata": {},
   "outputs": [
    {
     "name": "stdout",
     "output_type": "stream",
     "text": [
      "[' ' '(' '.' '0' '2' '4' '6' '8' 'B' 'D' 'F' 'H' 'L' 'N' 'P' 'R' 'T' 'V'\n",
      " 'Z' 'b' 'd' 'f' 'h' 'l' 'n' 'p' 'r' 't' '#' '%' ')' '+' '-' '1' '3' '5'\n",
      " '7' '9' '=' 'A' 'C' 'E' 'G' 'I' 'K' 'M' 'O' 'S' 'U' 'W' 'Y' '[' ']' 'a'\n",
      " 'c' 'e' 'g' 'i' 'm' 'o' 's' 'u' 'y'] 63\n"
     ]
    }
   ],
   "source": [
    "data_file = '../preprocessed/pubchem_500k.h5'\n",
    "charset_file = '../preprocessed/pubchem_500k_charset.p'\n",
    "model_file = '../models/pubchem_500k_val_loss_0.4368_val_acc_0.9654_MoleculeVAE.h5'\n",
    "LATENT_DIM = 100\n",
    "\n",
    "charset = load_embedding_charset(charset_file)\n",
    "print(charset, len(charset))\n",
    "\n",
    "model = MoleculeVAE()\n",
    "model.load(charset, model_file, latent_rep_size=LATENT_DIM)"
   ]
  },
  {
   "cell_type": "code",
   "execution_count": 12,
   "metadata": {},
   "outputs": [],
   "source": [
    "# write_embedding_charset(charset, charset_file)"
   ]
  },
  {
   "cell_type": "markdown",
   "metadata": {},
   "source": [
    "### Load data"
   ]
  },
  {
   "cell_type": "code",
   "execution_count": 13,
   "metadata": {},
   "outputs": [],
   "source": [
    "data = load_data('../data/representation_2/data_small.txt')\n",
    "mona_smiles = [x[0] for x in data]\n",
    "mona_classes = [list(map(int, x[1])) for x in data]"
   ]
  },
  {
   "cell_type": "code",
   "execution_count": 14,
   "metadata": {},
   "outputs": [
    {
     "data": {
      "text/plain": [
       "[<matplotlib.lines.Line2D at 0x1234fc278>]"
      ]
     },
     "execution_count": 14,
     "metadata": {},
     "output_type": "execute_result"
    },
    {
     "data": {
      "image/png": "[encoded data removed]",
      "text/plain": [
       "<Figure size 432x288 with 1 Axes>"
      ]
     },
     "metadata": {},
     "output_type": "display_data"
    }
   ],
   "source": [
    "out = np.concatenate(mona_classes).ravel().tolist()\n",
    "c = Counter(out)\n",
    "most_common_mass, most_common_freq = zip(*c.most_common())\n",
    "plt.plot(range(len(most_common_freq)), most_common_freq)"
   ]
  },
  {
   "cell_type": "code",
   "execution_count": 15,
   "metadata": {},
   "outputs": [],
   "source": [
    "keep_classes = set(most_common_mass[0:200])\n",
    "filtered_mona_smiles = []\n",
    "filtered_mona_classes = []\n",
    "for i in range(len(mona_smiles)):\n",
    "    smile = mona_smiles[i]\n",
    "    classes = mona_classes[i]\n",
    "    filtered = list(filter(lambda x: x in keep_classes, classes))\n",
    "    if len(filtered) > 0:\n",
    "        filtered_mona_smiles.append(mona_smiles[i])\n",
    "        filtered_mona_classes.append(filtered)\n",
    "mona_smiles = filtered_mona_smiles\n",
    "mona_classes = filtered_mona_classes"
   ]
  },
  {
   "cell_type": "code",
   "execution_count": 16,
   "metadata": {},
   "outputs": [],
   "source": [
    "c = Counter(np.concatenate(mona_classes).ravel().tolist())\n",
    "# c.most_common()"
   ]
  },
  {
   "cell_type": "code",
   "execution_count": 17,
   "metadata": {},
   "outputs": [],
   "source": [
    "input_array = get_input_arr(mona_smiles, charset)\n",
    "mona_latent = encode(model, input_array)"
   ]
  },
  {
   "cell_type": "code",
   "execution_count": 18,
   "metadata": {},
   "outputs": [],
   "source": [
    "mlb = MultiLabelBinarizer()\n",
    "X = mona_latent\n",
    "y = mlb.fit_transform(mona_classes)\n",
    "indices = np.arange(len(X))"
   ]
  },
  {
   "cell_type": "code",
   "execution_count": 19,
   "metadata": {},
   "outputs": [
    {
     "name": "stdout",
     "output_type": "stream",
     "text": [
      "(7478, 100)\n",
      "(7478, 200)\n",
      "(1870, 100)\n",
      "(1870, 200)\n"
     ]
    }
   ],
   "source": [
    "X_train, X_val, y_train, y_val, idx_train, idx_val = train_test_split(X, y, indices, test_size=0.20)\n",
    "print(X_train.shape)\n",
    "print(y_train.shape)\n",
    "print(X_val.shape)\n",
    "print(y_val.shape)"
   ]
  },
  {
   "cell_type": "markdown",
   "metadata": {},
   "source": [
    "### Set up model"
   ]
  },
  {
   "cell_type": "code",
   "execution_count": 29,
   "metadata": {
    "scrolled": false
   },
   "outputs": [
    {
     "name": "stdout",
     "output_type": "stream",
     "text": [
      "_________________________________________________________________\n",
      "Layer (type)                 Output Shape              Param #   \n",
      "=================================================================\n",
      "dense_13 (Dense)             (None, 64)                6464      \n",
      "_________________________________________________________________\n",
      "dropout_5 (Dropout)          (None, 64)                0         \n",
      "_________________________________________________________________\n",
      "dense_14 (Dense)             (None, 32)                2080      \n",
      "_________________________________________________________________\n",
      "dropout_6 (Dropout)          (None, 32)                0         \n",
      "_________________________________________________________________\n",
      "dense_15 (Dense)             (None, 64)                2112      \n",
      "_________________________________________________________________\n",
      "dense_16 (Dense)             (None, 200)               13000     \n",
      "=================================================================\n",
      "Total params: 23,656\n",
      "Trainable params: 23,656\n",
      "Non-trainable params: 0\n",
      "_________________________________________________________________\n"
     ]
    }
   ],
   "source": [
    "EPOCHS = 100\n",
    "BATCH_SIZE = 32\n",
    "OUTPUT_SIZE = y_train.shape[1]\n",
    "\n",
    "def get_model(model_choice):\n",
    "    if model_choice == 1:\n",
    "        model = Sequential()\n",
    "        model.add(Dense(32, input_dim=LATENT_DIM, activation='relu'))\n",
    "        model.add(Dense(OUTPUT_SIZE, activation='sigmoid'))\n",
    "    elif model_choice == 2:\n",
    "        model = Sequential()\n",
    "        model.add(Dense(64, input_dim=LATENT_DIM, activation='relu'))\n",
    "        model.add(Dense(32, activation='relu'))\n",
    "        model.add(Dense(OUTPUT_SIZE, activation='sigmoid'))\n",
    "    elif model_choice == 3:\n",
    "        model = Sequential()\n",
    "        model.add(Dense(64, input_dim=LATENT_DIM, activation='relu'))\n",
    "        model.add(Dropout(0.5))\n",
    "        model.add(Dense(32, activation='relu'))\n",
    "        model.add(Dropout(0.5))        \n",
    "        model.add(Dense(64, activation='relu'))        \n",
    "        model.add(Dense(OUTPUT_SIZE, activation='sigmoid'))\n",
    "    return model\n",
    "        \n",
    "model = get_model(3)\n",
    "model.summary()\n",
    "# plot_model(model, show_shapes=True, show_layer_names=True)"
   ]
  },
  {
   "cell_type": "code",
   "execution_count": 30,
   "metadata": {},
   "outputs": [],
   "source": [
    "model.compile(optimizer='adam', loss='binary_crossentropy', metrics=[categorical_accuracy])"
   ]
  },
  {
   "cell_type": "code",
   "execution_count": 31,
   "metadata": {},
   "outputs": [
    {
     "data": {
      "image/png": "[encoded data removed]",
      "text/plain": [
       "<Figure size 864x576 with 2 Axes>"
      ]
     },
     "metadata": {},
     "output_type": "display_data"
    }
   ],
   "source": [
    "history = model.fit(X_train, y_train, batch_size=BATCH_SIZE, epochs=EPOCHS, validation_data=(X_val, y_val), \n",
    "                    callbacks=[PlotLossesKeras()])"
   ]
  },
  {
   "cell_type": "code",
   "execution_count": 32,
   "metadata": {},
   "outputs": [],
   "source": [
    "# model.save('results/embedding_large.hdf5')\n",
    "# with open('results/embedding_large.history', 'wb') as f:\n",
    "#     pickle.dump(history.history, f)"
   ]
  },
  {
   "cell_type": "markdown",
   "metadata": {},
   "source": [
    "### Make some predictions"
   ]
  },
  {
   "cell_type": "markdown",
   "metadata": {},
   "source": [
    "Poor results due to imbalanced classes"
   ]
  },
  {
   "cell_type": "code",
   "execution_count": 39,
   "metadata": {
    "scrolled": false
   },
   "outputs": [
    {
     "name": "stdout",
     "output_type": "stream",
     "text": [
      "SMILES n1ccncc1\n",
      "Actual    [81]\n",
      "Predicted [65, 77, 91, 92, 93]\n",
      "\n",
      "SMILES c1cc(N=Nc2ccccc2)ccc1\n",
      "Actual    [67, 75, 77, 78, 81, 89, 92, 94, 95, 105, 106, 113, 115, 127, 128, 139, 140, 152, 153, 154, 155, 181, 182]\n",
      "Predicted [65, 77, 91, 92, 93, 95, 105, 117, 119]\n",
      "\n",
      "SMILES c1(NC(C)(C)C)nc(=N)nc(SC)[nH]1\n",
      "Actual    [57, 68, 74, 85, 91, 110, 116, 128, 143, 158, 214]\n",
      "Predicted [68, 71, 79, 96, 110, 128, 138, 146]\n",
      "\n",
      "SMILES C(=O)(CCl)N(C(C)C)c1ccccc1\n",
      "Actual    [76, 77, 79, 91, 93, 94, 95, 106, 125, 134, 152, 170]\n",
      "Predicted [65, 77, 79, 91, 92, 93, 94, 95, 105, 106, 107, 117, 118, 119, 120, 121, 132, 133, 134]\n",
      "\n",
      "SMILES N1CCCCC1\n",
      "Actual    [69, 86]\n",
      "Predicted [56, 58, 70]\n",
      "\n",
      "SMILES NCC1(C)CC(N)CC(C)(C)C1\n",
      "Actual    [137, 154]\n",
      "Predicted [95]\n",
      "\n",
      "SMILES CNC1=CC=CC=C1C(=O)O\n",
      "Actual    [41, 43, 44, 54, 57, 59, 73, 76, 78, 80, 89, 91, 98, 105, 106, 107, 108, 116, 117, 119, 133, 135, 152]\n",
      "Predicted []\n",
      "\n",
      "SMILES CNC[C@H](O)c(c1)cc(O)c(O)c1\n",
      "Actual    [100, 101, 105, 107, 116, 117, 119, 121, 122, 123, 124, 133, 135, 137, 148, 149, 150, 152, 166, 167, 183, 184]\n",
      "Predicted [77, 79, 91, 93, 95, 105, 107, 117, 119, 121, 132]\n",
      "\n",
      "SMILES c1c2ncsc2ccc1\n",
      "Actual    [136]\n",
      "Predicted [65, 77, 91, 92, 93]\n",
      "\n",
      "SMILES n1c2ccccc2sc1O\n",
      "Actual    [50, 51, 52, 53, 54, 55, 56, 57, 58, 59, 61, 62, 63, 64, 65, 66, 67, 68, 69, 70, 74, 75, 76, 77, 78, 79, 80, 81, 82, 90, 91, 92, 93, 94, 96, 97, 105, 106, 108, 109, 119, 122, 124, 132, 134]\n",
      "Predicted [65, 77, 79, 91, 92, 93, 95, 105]\n",
      "\n",
      "SMILES [nH]1c2ccccc2cc1\n",
      "Actual    [91, 118]\n",
      "Predicted [65, 77, 91, 92, 95, 105]\n",
      "\n",
      "SMILES OC(=O)C(N)CCC(=O)N\n",
      "Actual    [40, 55, 56, 65, 84]\n",
      "Predicted [68, 69, 71]\n",
      "\n",
      "SMILES C=C(C(=O)O)OP(O)(O)=O\n",
      "Actual    [54, 62, 73, 79, 90, 92, 105, 106, 109, 111, 114, 120, 123, 132, 133, 137, 151, 152, 155, 169]\n",
      "Predicted []\n",
      "\n",
      "SMILES C(SC)C[C@@H](C(=O)O)N\n",
      "Actual    [54, 77, 79, 90, 92, 103]\n",
      "Predicted [68, 69, 71]\n",
      "\n",
      "SMILES C(CC(N)C(O)=O)CNC(=N)O\n",
      "Actual    [43, 55, 57, 61, 68, 69, 70, 71, 72, 73, 81, 83, 84, 86, 88, 94, 95, 97, 98, 99, 113, 114, 115, 116, 123, 133, 140, 142, 159]\n",
      "Predicted [95]\n",
      "\n",
      "SMILES CC(=NCCCS(O)(=O)=O)O\n",
      "Actual    [123, 140, 141, 142, 182]\n",
      "Predicted [71]\n",
      "\n",
      "SMILES C1COC(c2c(OC(=O)NC)cccc2)O1\n",
      "Actual    [70, 73, 77, 91, 93, 94, 95, 102, 105, 114, 118, 121, 123, 125, 134, 162, 165, 167, 174, 224, 235]\n",
      "Predicted [68, 71, 79, 96, 110, 128, 138]\n",
      "\n",
      "SMILES c1c2c(ccc1)Nc1c(cccc1)C=C2\n",
      "Actual    [194]\n",
      "Predicted [77, 89, 91, 105, 115, 116, 117, 128, 129, 141, 143, 151, 152, 153, 155, 165, 166, 167, 168, 169, 177, 178, 179, 181, 191, 192, 193, 194]\n",
      "\n",
      "SMILES C1C2N(C)C(CC1=O)CC2\n",
      "Actual    [30, 39, 40, 42, 43, 44, 53, 55, 56, 57, 58, 60, 65, 67, 68, 69, 70, 77, 79, 80, 81, 82, 83, 91, 94, 95, 98, 106, 109, 122, 140]\n",
      "Predicted []\n",
      "\n",
      "SMILES c12ccccc1Nc1c(cccc1)C=C2\n",
      "Actual    [90, 165, 166, 167, 177, 178, 190, 191, 192, 193]\n",
      "Predicted [65, 77, 89, 91, 92, 95, 105, 115, 116, 117, 128, 129, 141, 143, 145, 151, 152, 153, 155, 165, 166, 167, 168, 169, 179, 181, 193]\n",
      "\n"
     ]
    }
   ],
   "source": [
    "def predict(model, X_new, t, mlb):\n",
    "    pred = (model.predict(X_new) > t).astype(int)\n",
    "    return mlb.inverse_transform(pred)\n",
    "\n",
    "# predict on some random validation data\n",
    "NUM_RANDOM = 20\n",
    "idx = np.random.choice(np.arange(len(X_val)), NUM_RANDOM, replace=False)\n",
    "X_new = X_val[idx]\n",
    "y_new = y_val[idx]\n",
    "idx_new = idx_val[idx]\n",
    "smiles_new = np.array(mona_smiles)[idx_new]\n",
    "t = 0.5\n",
    "for smile, actual, pred in zip(smiles_new, mlb.inverse_transform(y_new), predict(model, X_new, 0.20, mlb)):\n",
    "    print('SMILES', smile)\n",
    "    print('Actual   ', sorted(map(int, actual)))\n",
    "    print('Predicted', sorted(map(int, pred)))\n",
    "    print()"
   ]
  },
  {
   "cell_type": "code",
   "execution_count": null,
   "metadata": {},
   "outputs": [],
   "source": []
  }
 ],
 "metadata": {
  "kernelspec": {
   "display_name": "Python [default]",
   "language": "python",
   "name": "python3"
  },
  "language_info": {
   "codemirror_mode": {
    "name": "ipython",
    "version": 3
   },
   "file_extension": ".py",
   "mimetype": "text/x-python",
   "name": "python",
   "nbconvert_exporter": "python",
   "pygments_lexer": "ipython3",
   "version": "3.6.5"
  }
 },
 "nbformat": 4,
 "nbformat_minor": 2
}
