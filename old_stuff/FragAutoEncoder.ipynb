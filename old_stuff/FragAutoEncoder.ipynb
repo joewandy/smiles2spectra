{
 "cells": [
  {
   "cell_type": "code",
   "execution_count": 1,
   "metadata": {},
   "outputs": [],
   "source": [
    "import glob\n",
    "from ms2lda_feature_extraction import LoadMSP, LoadGNPS, LoadMGF"
   ]
  },
  {
   "cell_type": "code",
   "execution_count": 2,
   "metadata": {},
   "outputs": [],
   "source": [
    "# # input_file = '../data/MSMS-NIST-Curated-Pos-MfKit.msp'\n",
    "# input_file = '../data/MoNA-export-LC-MS-MS_Positive_Mode.msp'\n",
    "# l = LoadMSP()\n",
    "# ms1,ms2,metadata = l.load_spectra([input_file])"
   ]
  },
  {
   "cell_type": "code",
   "execution_count": 3,
   "metadata": {},
   "outputs": [],
   "source": [
    "input_file = '../data/ALL_GNPS.mgf'\n",
    "l = LoadMGF()\n",
    "ms1,ms2,metadata = l.load_spectra([input_file])"
   ]
  },
  {
   "cell_type": "code",
   "execution_count": 4,
   "metadata": {},
   "outputs": [],
   "source": [
    "# toremove = []\n",
    "# for m in ms1:\n",
    "#     md = metadata[m.name]\n",
    "#     if int(md['charge']) < 0:\n",
    "#         toremove.append(m)\n",
    "# print(\"Found {} with -ve charge\".format(len(toremove)))\n",
    "\n",
    "# for m in toremove:\n",
    "#     del metadata[m.name]\n",
    "#     pos = ms1.index(m)\n",
    "#     del ms1[pos]"
   ]
  },
  {
   "cell_type": "code",
   "execution_count": 5,
   "metadata": {},
   "outputs": [],
   "source": [
    "# def make_spec_dict(ms2):\n",
    "#     spec_dict = {}\n",
    "#     for m in ms2:\n",
    "#         ms1 = m[3]\n",
    "#         ms1_name = ms1.name\n",
    "#         if not ms1_name in spec_dict:\n",
    "#             spec_dict[ms1_name] = []\n",
    "#         frag_mz = m[0]\n",
    "#         frag_intensity = m[1]\n",
    "#         spec_dict[ms1_name].append((m[0],m[2]))\n",
    "#     # sort them\n",
    "#     for m in spec_dict:\n",
    "#         spec_dict[m] = sorted(spec_dict[m],key = lambda x: x[0])\n",
    "        \n",
    "#     # normalise intensities\n",
    "#     for m in spec_dict:\n",
    "#         max_val = max([x[1] for x in spec_dict[m]])\n",
    "#         new_spec = []\n",
    "#         for mz,i in spec_dict[m]:\n",
    "#             new_spec.append((mz,100.0*i/max_val))\n",
    "#         spec_dict[m] = new_spec\n",
    "#     return spec_dict\n",
    "\n",
    "# spec_dict_gnps = make_spec_dict(ms2)"
   ]
  },
  {
   "cell_type": "code",
   "execution_count": null,
   "metadata": {},
   "outputs": [],
   "source": []
  },
  {
   "cell_type": "code",
   "execution_count": null,
   "metadata": {},
   "outputs": [],
   "source": []
  },
  {
   "cell_type": "code",
   "execution_count": null,
   "metadata": {},
   "outputs": [],
   "source": []
  },
  {
   "cell_type": "code",
   "execution_count": null,
   "metadata": {},
   "outputs": [],
   "source": []
  },
  {
   "cell_type": "code",
   "execution_count": 6,
   "metadata": {},
   "outputs": [],
   "source": [
    "min_frag_mz = 20\n",
    "max_frag_mz = 500\n",
    "import numpy as np"
   ]
  },
  {
   "cell_type": "code",
   "execution_count": 7,
   "metadata": {},
   "outputs": [],
   "source": [
    "def make_spec_matrix(ms1,ms2,min_frag_mz = 20,max_frag_mz = 500,normalise = 1000.0):\n",
    "    doc_index = {}\n",
    "    n_docs = len(ms1)\n",
    "    i = 0\n",
    "    for m in ms1:\n",
    "        doc_index[m.name] = i\n",
    "        i += 1\n",
    "    n_words = max_frag_mz - min_frag_mz + 1\n",
    "    n_docs = len(doc_index)\n",
    "    doc_matrix = np.zeros((n_docs,n_words),np.double)\n",
    "    for m in ms2:\n",
    "        mz = m[0]\n",
    "        mz_int = (int)(np.round(mz))\n",
    "        doc_pos = doc_index[m[3].name]\n",
    "        if mz_int <= max_frag_mz and mz_int >= min_frag_mz:\n",
    "            mz_pos = mz_int - min_frag_mz\n",
    "            doc_matrix[doc_pos,mz_pos] += m[2]\n",
    "    s = doc_matrix.sum(axis=1)\n",
    "    toremove = []\n",
    "    for doc,doc_pos in doc_index.items():\n",
    "        if s[doc_pos] == 0:\n",
    "            toremove.append(doc)\n",
    "    \n",
    "    for doc in toremove:\n",
    "        doc_pos = doc_index[doc]\n",
    "        doc_matrix = np.delete(doc_matrix,(doc_pos),axis=0)\n",
    "        del doc_index[doc]\n",
    "        for d,p in doc_index.items():\n",
    "            if p > doc_pos:\n",
    "                doc_index[d] -= 1\n",
    "    \n",
    "    if normalise > 0:\n",
    "        s = doc_matrix.max(axis=1)\n",
    "        s = s[:,None]\n",
    "        doc_matrix *= (normalise/s)\n",
    "\n",
    "        \n",
    "    \n",
    "    return doc_index,doc_matrix\n",
    "        "
   ]
  },
  {
   "cell_type": "code",
   "execution_count": 8,
   "metadata": {},
   "outputs": [],
   "source": [
    "doc_index,doc_matrix = make_spec_matrix(ms1,ms2)"
   ]
  },
  {
   "cell_type": "code",
   "execution_count": 31,
   "metadata": {},
   "outputs": [
    {
     "name": "stdout",
     "output_type": "stream",
     "text": [
      "document_3504\n"
     ]
    }
   ],
   "source": [
    "test_doc = list(doc_index.keys())[3456]\n",
    "print(test_doc)"
   ]
  },
  {
   "cell_type": "code",
   "execution_count": 9,
   "metadata": {},
   "outputs": [
    {
     "name": "stdout",
     "output_type": "stream",
     "text": [
      "{'parentmass': 293.21, 'parentintensity': None, 'charge': '1', 'mslevel': '2', 'source_instrument': 'LC-ESI-qTof', 'filename': 'TerbinafineHCl.mgf', 'seq': '*..*', 'ionmode': 'Positive', 'organism': 'GNPS-SELLECKCHEM-FDA-PART1', 'name': 'TerbinafineHCl M+H', 'pi': 'Sirenas', 'datacollector': 'Ed Esquenazi', 'smiles': 'N/A', 'inchi': 'N/A', 'inchiaux': 'N/A', 'pubmed': 'N/A', 'submituser': 'mwang87', 'libraryquality': '3', 'spectrumid': 'CCMSLIB00000005027', 'scans': '4'}\n",
      "101 0.04590070702630794\n",
      "103 0.5490336510870657\n",
      "104 0.045244984085488014\n",
      "105 9.367511352286844\n",
      "106 6.635511977798805\n",
      "107 0.214414292845789\n",
      "108 1.0141542778603068\n",
      "109 0.509976636619946\n",
      "110 0.8087766891341607\n",
      "115 1.709012011808077\n",
      "116 1.5576116468140566\n",
      "117 0.6017561037629175\n",
      "119 2.239230457203396\n",
      "120 2.7162046543897893\n",
      "121 22.900444770301526\n",
      "122 15.825138515017011\n",
      "123 0.6961097869325672\n",
      "124 0.1850399460112724\n",
      "125 0.24955626595209873\n",
      "126 0.08801695478081048\n",
      "130 0.20486704992085195\n",
      "133 0.044780686218276446\n",
      "134 0.10009369032804599\n",
      "135 0.20425928778964478\n",
      "136 0.5639721921592055\n",
      "137 0.3264643344585508\n",
      "138 0.2026991349955496\n",
      "139 0.13176629811607138\n",
      "140 5.1970116727451305\n",
      "141 456.70473766547616\n",
      "142 471.72520243711534\n",
      "143 12.533123637599981\n",
      "144 0.6229861574641378\n",
      "145 0.3254593899173753\n",
      "146 0.24172745121419492\n",
      "147 0.1665468284172697\n",
      "148 0.3662459746412063\n",
      "149 0.33524752277004805\n",
      "150 13.74699877253307\n",
      "151 12.953954807186943\n",
      "152 0.21718982152122535\n",
      "153 0.2902433679109476\n",
      "154 0.21031091543553065\n",
      "155 0.16454793976811766\n",
      "156 0.23097469300468987\n",
      "164 0.6950756382983494\n",
      "165 2.3419536962092327\n",
      "166 4.132788164412532\n",
      "168 1.1181970360270839\n",
      "169 0.7144073180383179\n",
      "170 17.59549002822262\n",
      "171 24.599391304797344\n",
      "172 0.06289637631882827\n",
      "173 0.0678787227391207\n",
      "177 0.044401909805978336\n",
      "178 0.16304577699526426\n",
      "179 2.6043271260083976\n",
      "180 5.88426424944446\n",
      "181 0.2400650503714808\n",
      "182 0.46319511256478324\n",
      "190 0.38792889412240794\n",
      "191 1.9016384797539163\n",
      "192 1.4870522648620246\n",
      "193 0.524517185930809\n",
      "194 2.820040791912144\n",
      "195 0.3102160943546783\n",
      "199 0.07935365837645374\n",
      "202 0.08193879390119985\n",
      "203 0.24528552143587215\n",
      "204 0.9412554322285773\n",
      "205 7.17144328336072\n",
      "206 21.3735331000853\n",
      "207 0.34326124730352814\n",
      "208 0.08109848490532696\n",
      "209 1.0647850699932893\n",
      "217 0.3526686882791398\n",
      "218 0.6015543392263454\n",
      "219 0.6978202295200249\n",
      "220 3.5876441005876294\n",
      "221 0.25182480347880914\n",
      "222 0.45015350211072863\n",
      "223 0.7401686329527275\n",
      "231 0.8159886635170155\n",
      "232 0.47816925160530094\n",
      "233 1.200962528332988\n",
      "234 1.0626003677729332\n",
      "235 0.9998967654465607\n",
      "236 5.132381369161715\n",
      "237 7.1258340642081075\n",
      "238 0.1836375155533879\n",
      "247 0.4624374248483023\n",
      "248 0.23527545096526697\n",
      "249 0.39427878121460164\n",
      "250 4.636137016423974\n",
      "251 0.2590852242820617\n",
      "252 0.07211677620708501\n",
      "261 2.6948805743003237\n",
      "262 12.291441159340154\n",
      "263 0.5918499540003019\n",
      "264 0.5230070915151339\n",
      "270 0.0446154908716522\n",
      "278 0.23184542686516169\n",
      "288 0.05557677844574829\n",
      "291 8.381349238075066\n",
      "292 11.988020553929658\n",
      "293 1000.0\n",
      "294 13.029706845496737\n",
      "295 3.489086565787386\n",
      "296 0.8869528290367203\n",
      "297 1.1433176751904142\n",
      "298 0.10863828187384778\n",
      "299 0.09254864764803089\n",
      "300 0.39950776395691895\n",
      "301 0.1663992499507901\n",
      "320 0.034782223194351584\n",
      "322 0.058523403987765454\n",
      "341 0.1330575506825684\n",
      "358 0.10252585845551788\n",
      "362 0.06103590023258902\n",
      "438 0.1939803980265723\n"
     ]
    }
   ],
   "source": [
    "test_doc = list(doc_index.keys())[3456]\n",
    "pos = np.where(doc_matrix[doc_index[test_doc],:]>0)[0]\n",
    "print(metadata[test_doc])\n",
    "for p in pos:\n",
    "    print(p+20,doc_matrix[doc_index[test_doc],p])"
   ]
  },
  {
   "cell_type": "code",
   "execution_count": 12,
   "metadata": {},
   "outputs": [
    {
     "data": {
      "text/plain": [
       "array([[  0.        ,   0.        ,   0.        , ..., 110.86230454,\n",
       "          0.        ,   0.        ],\n",
       "       [  0.        ,   0.        ,   0.        , ...,   0.        ,\n",
       "         45.29090614,   0.        ],\n",
       "       [  0.        ,   0.        ,   0.        , ...,   0.        ,\n",
       "          0.        ,   0.        ],\n",
       "       ...,\n",
       "       [  0.        ,   0.        ,   0.        , ...,   0.        ,\n",
       "        663.46139993,   0.        ],\n",
       "       [  0.        ,   0.        ,   0.        , ...,   0.        ,\n",
       "          0.        ,   0.        ],\n",
       "       [  0.        ,   0.        ,   0.        , ...,   0.        ,\n",
       "          0.        ,   0.        ]])"
      ]
     },
     "execution_count": 12,
     "metadata": {},
     "output_type": "execute_result"
    }
   ],
   "source": [
    "doc_matrix"
   ]
  },
  {
   "cell_type": "code",
   "execution_count": 13,
   "metadata": {},
   "outputs": [],
   "source": [
    "s = doc_matrix.max(axis=1)[:,None]\n",
    "train_data = np.log(doc_matrix+1)"
   ]
  },
  {
   "cell_type": "code",
   "execution_count": 14,
   "metadata": {},
   "outputs": [
    {
     "name": "stderr",
     "output_type": "stream",
     "text": [
      "Using TensorFlow backend.\n"
     ]
    }
   ],
   "source": [
    "%matplotlib inline\n",
    "from matplotlib import pyplot as plt\n",
    "import numpy as np\n",
    "import keras\n",
    "from keras import backend as K\n",
    "from keras.models import Sequential\n",
    "from keras.layers.core import Dense, Dropout, Activation, Flatten\n",
    "from keras.layers.convolutional import Convolution2D, MaxPooling2D\n",
    "from keras.optimizers import SGD\n",
    "from keras.utils import np_utils\n",
    "from keras.objectives import categorical_crossentropy\n",
    "from keras.constraints import nonneg\n",
    "from keras.layers import Input, Dense, Lambda\n",
    "from keras.models import Model\n",
    "from keras.datasets import mnist"
   ]
  },
  {
   "cell_type": "code",
   "execution_count": 15,
   "metadata": {},
   "outputs": [
    {
     "name": "stdout",
     "output_type": "stream",
     "text": [
      "481\n"
     ]
    },
    {
     "name": "stderr",
     "output_type": "stream",
     "text": [
      "/Users/joewandy/anaconda/envs/smiles2spectra/lib/python3.6/site-packages/ipykernel/__main__.py:26: UserWarning: Update your `Model` call to the Keras 2 API: `Model(inputs=Tensor(\"in..., outputs=Tensor(\"de...)`\n"
     ]
    }
   ],
   "source": [
    "from keras.constraints import nonneg\n",
    "from keras.layers import Input, Dense, Lambda\n",
    "from keras.models import Model\n",
    "\n",
    "n_in = train_data.shape[1]\n",
    "print(n_in)\n",
    "af = 'relu'\n",
    "input_layer = Input(shape = (train_data.shape[1],))\n",
    "l = input_layer\n",
    "l = Dense(256,activation = af)(l)\n",
    "l = Dense(128,activation = af)(l)\n",
    "# l = Dense(16,activation= af(l)\n",
    "l = Dense(16)(l)\n",
    "# l = Dense(2)(l)\n",
    "\n",
    "proj_layer = l\n",
    "\n",
    "# l2 = Dense(16,activation = af)(l)\n",
    "l2 = Dense(128,activation = af)(l)\n",
    "l2 = Dense(256,activation = af)(l2)\n",
    "l2 = Dense(n_in,activation = af)(l2)\n",
    "\n",
    "\n",
    "out_layer = l2\n",
    "\n",
    "auto_model = Model(input = input_layer,output = out_layer)\n",
    "\n",
    "sgd = SGD(lr = 0.1)\n",
    "auto_model.compile(loss='mean_squared_error',optimizer = sgd)\n"
   ]
  },
  {
   "cell_type": "code",
   "execution_count": 23,
   "metadata": {
    "scrolled": true
   },
   "outputs": [
    {
     "name": "stdout",
     "output_type": "stream",
     "text": [
      "Epoch 1/100\n",
      "1120/9242 [==>...........................] - ETA: 1s - loss: 0.5334"
     ]
    },
    {
     "name": "stderr",
     "output_type": "stream",
     "text": [
      "/Users/joewandy/anaconda/envs/smiles2spectra/lib/python3.6/site-packages/ipykernel/__main__.py:1: UserWarning: The `nb_epoch` argument in `fit` has been renamed `epochs`.\n",
      "  if __name__ == '__main__':\n"
     ]
    },
    {
     "name": "stdout",
     "output_type": "stream",
     "text": [
      "9242/9242 [==============================] - 1s 132us/step - loss: 0.5393\n",
      "Epoch 2/100\n",
      "9242/9242 [==============================] - 1s 125us/step - loss: 0.5384\n",
      "Epoch 3/100\n",
      "9242/9242 [==============================] - 1s 125us/step - loss: 0.5377\n",
      "Epoch 4/100\n",
      "9242/9242 [==============================] - 1s 125us/step - loss: 0.5362\n",
      "Epoch 5/100\n",
      "9242/9242 [==============================] - 1s 126us/step - loss: 0.5338\n",
      "Epoch 6/100\n",
      "9242/9242 [==============================] - 1s 127us/step - loss: 0.5367\n",
      "Epoch 7/100\n",
      "9242/9242 [==============================] - 1s 136us/step - loss: 0.5346\n",
      "Epoch 8/100\n",
      "9242/9242 [==============================] - 1s 160us/step - loss: 0.5383\n",
      "Epoch 9/100\n",
      "9242/9242 [==============================] - 1s 146us/step - loss: 0.5344\n",
      "Epoch 10/100\n",
      "9242/9242 [==============================] - 1s 132us/step - loss: 0.5312\n",
      "Epoch 11/100\n",
      "9242/9242 [==============================] - 1s 130us/step - loss: 0.5313\n",
      "Epoch 12/100\n",
      "9242/9242 [==============================] - 1s 130us/step - loss: 0.5299\n",
      "Epoch 13/100\n",
      "9242/9242 [==============================] - 1s 131us/step - loss: 0.5303\n",
      "Epoch 14/100\n",
      "9242/9242 [==============================] - 1s 134us/step - loss: 0.5316\n",
      "Epoch 15/100\n",
      "9242/9242 [==============================] - 1s 132us/step - loss: 0.5310\n",
      "Epoch 16/100\n",
      "9242/9242 [==============================] - 1s 131us/step - loss: 0.5294\n",
      "Epoch 17/100\n",
      "9242/9242 [==============================] - 1s 132us/step - loss: 0.5345\n",
      "Epoch 18/100\n",
      "9242/9242 [==============================] - 1s 134us/step - loss: 0.5276\n",
      "Epoch 19/100\n",
      "9242/9242 [==============================] - 1s 132us/step - loss: 0.5269\n",
      "Epoch 20/100\n",
      "9242/9242 [==============================] - 1s 133us/step - loss: 0.5253\n",
      "Epoch 21/100\n",
      "9242/9242 [==============================] - 1s 132us/step - loss: 0.5252\n",
      "Epoch 22/100\n",
      "9242/9242 [==============================] - 1s 132us/step - loss: 0.5269\n",
      "Epoch 23/100\n",
      "9242/9242 [==============================] - 1s 133us/step - loss: 0.5240\n",
      "Epoch 24/100\n",
      "9242/9242 [==============================] - 1s 132us/step - loss: 0.5244\n",
      "Epoch 25/100\n",
      "9242/9242 [==============================] - 1s 132us/step - loss: 0.5288\n",
      "Epoch 26/100\n",
      "9242/9242 [==============================] - 1s 135us/step - loss: 0.5225\n",
      "Epoch 27/100\n",
      "9242/9242 [==============================] - 1s 132us/step - loss: 0.5216\n",
      "Epoch 28/100\n",
      "9242/9242 [==============================] - 1s 132us/step - loss: 0.5187\n",
      "Epoch 29/100\n",
      "9242/9242 [==============================] - 1s 133us/step - loss: 0.5218\n",
      "Epoch 30/100\n",
      "9242/9242 [==============================] - 1s 134us/step - loss: 0.5313\n",
      "Epoch 31/100\n",
      "9242/9242 [==============================] - 1s 132us/step - loss: 0.5229\n",
      "Epoch 32/100\n",
      "9242/9242 [==============================] - 1s 133us/step - loss: 0.5264\n",
      "Epoch 33/100\n",
      "9242/9242 [==============================] - 1s 137us/step - loss: 0.5189\n",
      "Epoch 34/100\n",
      "9242/9242 [==============================] - 1s 134us/step - loss: 0.5212\n",
      "Epoch 35/100\n",
      "9242/9242 [==============================] - 1s 133us/step - loss: 0.5177\n",
      "Epoch 36/100\n",
      "9242/9242 [==============================] - 1s 133us/step - loss: 0.5167\n",
      "Epoch 37/100\n",
      "9242/9242 [==============================] - 1s 133us/step - loss: 0.5266\n",
      "Epoch 38/100\n",
      "9242/9242 [==============================] - 1s 136us/step - loss: 0.5181\n",
      "Epoch 39/100\n",
      "9242/9242 [==============================] - 1s 133us/step - loss: 0.5147\n",
      "Epoch 40/100\n",
      "9242/9242 [==============================] - 1s 132us/step - loss: 0.5218\n",
      "Epoch 41/100\n",
      "9242/9242 [==============================] - 1s 133us/step - loss: 0.5168\n",
      "Epoch 42/100\n",
      "9242/9242 [==============================] - 1s 137us/step - loss: 0.5197\n",
      "Epoch 43/100\n",
      "9242/9242 [==============================] - 1s 144us/step - loss: 0.5122\n",
      "Epoch 44/100\n",
      "9242/9242 [==============================] - 1s 128us/step - loss: 0.5135\n",
      "Epoch 45/100\n",
      "9242/9242 [==============================] - 1s 113us/step - loss: 0.5132\n",
      "Epoch 46/100\n",
      "9242/9242 [==============================] - 1s 115us/step - loss: 0.5140\n",
      "Epoch 47/100\n",
      "9242/9242 [==============================] - 1s 123us/step - loss: 0.5173\n",
      "Epoch 48/100\n",
      "9242/9242 [==============================] - 1s 133us/step - loss: 0.5101\n",
      "Epoch 49/100\n",
      "9242/9242 [==============================] - 1s 127us/step - loss: 0.5130\n",
      "Epoch 50/100\n",
      "9242/9242 [==============================] - 1s 144us/step - loss: 0.5085\n",
      "Epoch 51/100\n",
      "9242/9242 [==============================] - 1s 137us/step - loss: 0.5089\n",
      "Epoch 52/100\n",
      "9242/9242 [==============================] - 1s 143us/step - loss: 0.5121\n",
      "Epoch 53/100\n",
      "9242/9242 [==============================] - 1s 140us/step - loss: 0.5088\n",
      "Epoch 54/100\n",
      "9242/9242 [==============================] - 1s 132us/step - loss: 0.5103\n",
      "Epoch 55/100\n",
      "9242/9242 [==============================] - 1s 130us/step - loss: 0.5094\n",
      "Epoch 56/100\n",
      "9242/9242 [==============================] - 1s 143us/step - loss: 0.5093\n",
      "Epoch 57/100\n",
      "9242/9242 [==============================] - 1s 115us/step - loss: 0.5036\n",
      "Epoch 58/100\n",
      "9242/9242 [==============================] - 1s 115us/step - loss: 0.5107\n",
      "Epoch 59/100\n",
      "9242/9242 [==============================] - 1s 114us/step - loss: 0.5037\n",
      "Epoch 60/100\n",
      "9242/9242 [==============================] - 1s 119us/step - loss: 0.5110\n",
      "Epoch 61/100\n",
      "9242/9242 [==============================] - 1s 115us/step - loss: 0.5137\n",
      "Epoch 62/100\n",
      "9242/9242 [==============================] - 1s 114us/step - loss: 0.5203\n",
      "Epoch 63/100\n",
      "9242/9242 [==============================] - 1s 117us/step - loss: 0.5034\n",
      "Epoch 64/100\n",
      "9242/9242 [==============================] - 1s 122us/step - loss: 0.5039\n",
      "Epoch 65/100\n",
      "9242/9242 [==============================] - 1s 114us/step - loss: 0.5012\n",
      "Epoch 66/100\n",
      "9242/9242 [==============================] - 1s 116us/step - loss: 0.5030\n",
      "Epoch 67/100\n",
      "9242/9242 [==============================] - 1s 115us/step - loss: 0.5014\n",
      "Epoch 68/100\n",
      "9242/9242 [==============================] - 1s 113us/step - loss: 0.5056\n",
      "Epoch 69/100\n",
      "9242/9242 [==============================] - 1s 117us/step - loss: 0.5007\n",
      "Epoch 70/100\n",
      "9242/9242 [==============================] - 1s 116us/step - loss: 0.5049\n",
      "Epoch 71/100\n",
      "9242/9242 [==============================] - 1s 123us/step - loss: 0.5012\n",
      "Epoch 72/100\n",
      "9242/9242 [==============================] - 1s 132us/step - loss: 0.5002\n",
      "Epoch 73/100\n",
      "9242/9242 [==============================] - 1s 128us/step - loss: 0.5003\n",
      "Epoch 74/100\n",
      "9242/9242 [==============================] - 1s 131us/step - loss: 0.5029\n",
      "Epoch 75/100\n",
      "9242/9242 [==============================] - 1s 135us/step - loss: 0.4983\n",
      "Epoch 76/100\n",
      "9242/9242 [==============================] - 1s 133us/step - loss: 0.4989\n",
      "Epoch 77/100\n",
      "9242/9242 [==============================] - 1s 133us/step - loss: 0.4958\n",
      "Epoch 78/100\n",
      "9242/9242 [==============================] - 1s 131us/step - loss: 0.5001\n",
      "Epoch 79/100\n",
      "9242/9242 [==============================] - 1s 138us/step - loss: 0.5001\n",
      "Epoch 80/100\n",
      "9242/9242 [==============================] - 1s 154us/step - loss: 0.4948\n",
      "Epoch 81/100\n",
      "9242/9242 [==============================] - 1s 133us/step - loss: 0.4963\n",
      "Epoch 82/100\n",
      "9242/9242 [==============================] - 2s 188us/step - loss: 0.4951\n",
      "Epoch 83/100\n",
      "9242/9242 [==============================] - 1s 162us/step - loss: 0.4958\n",
      "Epoch 84/100\n",
      "9242/9242 [==============================] - 1s 148us/step - loss: 0.4928\n",
      "Epoch 85/100\n",
      "9242/9242 [==============================] - 1s 161us/step - loss: 0.4945\n",
      "Epoch 86/100\n",
      "9242/9242 [==============================] - 1s 142us/step - loss: 0.4999\n",
      "Epoch 87/100\n",
      "9242/9242 [==============================] - 1s 131us/step - loss: 0.4943\n",
      "Epoch 88/100\n",
      "9242/9242 [==============================] - 1s 131us/step - loss: 0.4945\n",
      "Epoch 89/100\n",
      "9242/9242 [==============================] - 1s 133us/step - loss: 0.4962\n",
      "Epoch 90/100\n",
      "9242/9242 [==============================] - 1s 140us/step - loss: 0.4953\n",
      "Epoch 91/100\n",
      "9242/9242 [==============================] - 1s 132us/step - loss: 0.4977\n",
      "Epoch 92/100\n",
      "9242/9242 [==============================] - 1s 130us/step - loss: 0.4927\n",
      "Epoch 93/100\n",
      "9242/9242 [==============================] - 1s 129us/step - loss: 0.4930\n",
      "Epoch 94/100\n",
      "9242/9242 [==============================] - 1s 129us/step - loss: 0.4891\n",
      "Epoch 95/100\n",
      "9242/9242 [==============================] - 1s 125us/step - loss: 0.4891\n",
      "Epoch 96/100\n",
      "9242/9242 [==============================] - 1s 148us/step - loss: 0.4893\n",
      "Epoch 97/100\n",
      "9242/9242 [==============================] - 1s 154us/step - loss: 0.4946\n",
      "Epoch 98/100\n",
      "9242/9242 [==============================] - 1s 140us/step - loss: 0.4901\n",
      "Epoch 99/100\n",
      "9242/9242 [==============================] - 1s 137us/step - loss: 0.4917\n",
      "Epoch 100/100\n",
      "9242/9242 [==============================] - 1s 135us/step - loss: 0.4881\n"
     ]
    },
    {
     "data": {
      "text/plain": [
       "<keras.callbacks.History at 0x12e6bf358>"
      ]
     },
     "execution_count": 23,
     "metadata": {},
     "output_type": "execute_result"
    }
   ],
   "source": [
    "auto_model.fit(train_data,train_data,nb_epoch = 100)"
   ]
  },
  {
   "cell_type": "code",
   "execution_count": 24,
   "metadata": {},
   "outputs": [
    {
     "name": "stderr",
     "output_type": "stream",
     "text": [
      "/Users/joewandy/anaconda/envs/smiles2spectra/lib/python3.6/site-packages/ipykernel/__main__.py:1: UserWarning: Update your `Model` call to the Keras 2 API: `Model(inputs=Tensor(\"in..., outputs=Tensor(\"de...)`\n",
      "  if __name__ == '__main__':\n"
     ]
    }
   ],
   "source": [
    "proj_model = Model(input = input_layer,output = proj_layer)"
   ]
  },
  {
   "cell_type": "code",
   "execution_count": 25,
   "metadata": {},
   "outputs": [],
   "source": [
    "projections = proj_model.predict(train_data)"
   ]
  },
  {
   "cell_type": "code",
   "execution_count": 26,
   "metadata": {},
   "outputs": [
    {
     "data": {
      "text/plain": [
       "[<matplotlib.lines.Line2D at 0x12e7aa9b0>]"
      ]
     },
     "execution_count": 26,
     "metadata": {},
     "output_type": "execute_result"
    },
    {
     "data": {
      "image/png": "[encoded data removed]",
      "text/plain": [
       "<Figure size 1440x720 with 1 Axes>"
      ]
     },
     "metadata": {},
     "output_type": "display_data"
    }
   ],
   "source": [
    "plt.figure(figsize=(20,10))\n",
    "plt.plot(projections[:,0],projections[:,1],'ro')"
   ]
  },
  {
   "cell_type": "code",
   "execution_count": 27,
   "metadata": {},
   "outputs": [],
   "source": [
    "def plot_random_spec(train_data,auto_model,min_frag_mz):\n",
    "    outputs = auto_model.predict(train_data)\n",
    "    n_spec = train_data.shape[0]\n",
    "    spec_idx = np.random.choice(n_spec)\n",
    "    pos = np.where(train_data[spec_idx,:]>0)[0]\n",
    "    plt.figure(figsize=(20,5))\n",
    "    for p in pos:\n",
    "        plt.plot([p+min_frag_mz,p+min_frag_mz],[0,train_data[spec_idx,p]],'b')\n",
    "    pos = np.where(outputs[spec_idx,:]>0)[0]\n",
    "    for p in pos:\n",
    "        plt.plot([p+min_frag_mz,p+min_frag_mz],[0,-outputs[spec_idx,p]],'r')\n",
    "\n",
    "    "
   ]
  },
  {
   "cell_type": "code",
   "execution_count": 28,
   "metadata": {},
   "outputs": [
    {
     "data": {
      "image/png": "[encoded data removed]",
      "text/plain": [
       "<Figure size 1440x360 with 1 Axes>"
      ]
     },
     "metadata": {},
     "output_type": "display_data"
    }
   ],
   "source": [
    "plot_random_spec(train_data,auto_model,20)"
   ]
  },
  {
   "cell_type": "markdown",
   "metadata": {},
   "source": [
    "Inverse model"
   ]
  },
  {
   "cell_type": "code",
   "execution_count": null,
   "metadata": {},
   "outputs": [],
   "source": [
    "from functools import reduce"
   ]
  },
  {
   "cell_type": "code",
   "execution_count": null,
   "metadata": {},
   "outputs": [],
   "source": [
    "# we also create the inverse model\n",
    "latent_input = Input(shape=(16,))\n",
    "decoder_layers = auto_model.layers[-3:]\n",
    "\n",
    "# surely this can't be the right way of doing this?!\n",
    "decoder = reduce(lambda x,y:y(x), decoder_layers, latent_input)\n",
    "inverse_model = Model(input=latent_input, output=decoder)\n",
    "\n",
    "\n",
    "\n"
   ]
  },
  {
   "cell_type": "code",
   "execution_count": null,
   "metadata": {},
   "outputs": [],
   "source": [
    "def random_interpolation(proj_model,train_data,inverse_model,n_steps=10):\n",
    "    projections = proj_model.predict(train_data)\n",
    "    n_spec = train_data.shape[0]\n",
    "    spec1 = np.random.choice(n_spec)\n",
    "    spec2 = np.random.choice(n_spec)\n",
    "    \n",
    "    proj1 = projections[spec1,:]\n",
    "    proj2 = projections[spec2,:]\n",
    "    \n",
    "    diff = proj2 - proj1\n",
    "    deltas = diff/n_steps\n",
    "    test_out = inverse_model.predict(projections)\n",
    "    steps = [test_out[spec1,:]]\n",
    "    for i in range(n_steps):\n",
    "        proj1 += deltas\n",
    "        temp = inverse_model.predict(proj1[None,:]).T\n",
    "        steps.append(temp)\n",
    "    steps.append(test_out[spec2,:])\n",
    "    return steps\n",
    "    "
   ]
  },
  {
   "cell_type": "code",
   "execution_count": null,
   "metadata": {},
   "outputs": [],
   "source": [
    "steps = random_interpolation(proj_model,train_data,inverse_model,n_steps=20)"
   ]
  },
  {
   "cell_type": "code",
   "execution_count": null,
   "metadata": {},
   "outputs": [],
   "source": [
    "start = steps[0]\n",
    "end = steps[-1]\n",
    "plt.figure(figsize=(20,5))\n",
    "pos = np.where(start>0)[0]\n",
    "for p in pos:\n",
    "    plt.plot([p+20,p+20],[0,start[p]],'b')\n",
    "pos = np.where(end>0)[0]\n",
    "for p in pos:\n",
    "    plt.plot([p+20,p+20],[0,-end[p]],'r')\n",
    "plt.xlim([0,500])\n",
    "\n"
   ]
  },
  {
   "cell_type": "code",
   "execution_count": null,
   "metadata": {
    "scrolled": false
   },
   "outputs": [],
   "source": [
    "for i,step in enumerate(steps):\n",
    "    if i == 0 or i == len(steps)-1:\n",
    "        c = 'r'\n",
    "    else:\n",
    "        c = 'b'\n",
    "    plt.figure(figsize=(20,2))\n",
    "    pos = np.where(step>0)[0]\n",
    "    for p in pos:\n",
    "        plt.plot([p+20,p+20],[0,step[p]],c)\n",
    "    plt.xlim([0,500])"
   ]
  },
  {
   "cell_type": "code",
   "execution_count": null,
   "metadata": {},
   "outputs": [],
   "source": []
  },
  {
   "cell_type": "code",
   "execution_count": null,
   "metadata": {},
   "outputs": [],
   "source": []
  },
  {
   "cell_type": "code",
   "execution_count": null,
   "metadata": {},
   "outputs": [],
   "source": []
  },
  {
   "cell_type": "code",
   "execution_count": null,
   "metadata": {},
   "outputs": [],
   "source": []
  },
  {
   "cell_type": "code",
   "execution_count": null,
   "metadata": {},
   "outputs": [],
   "source": []
  },
  {
   "cell_type": "code",
   "execution_count": null,
   "metadata": {},
   "outputs": [],
   "source": []
  },
  {
   "cell_type": "code",
   "execution_count": null,
   "metadata": {},
   "outputs": [],
   "source": []
  },
  {
   "cell_type": "code",
   "execution_count": null,
   "metadata": {},
   "outputs": [],
   "source": []
  },
  {
   "cell_type": "code",
   "execution_count": null,
   "metadata": {},
   "outputs": [],
   "source": []
  }
 ],
 "metadata": {
  "kernelspec": {
   "display_name": "Python [conda env:smiles2spectra]",
   "language": "python",
   "name": "conda-env-smiles2spectra-py"
  },
  "language_info": {
   "codemirror_mode": {
    "name": "ipython",
    "version": 3
   },
   "file_extension": ".py",
   "mimetype": "text/x-python",
   "name": "python",
   "nbconvert_exporter": "python",
   "pygments_lexer": "ipython3",
   "version": "3.6.5"
  }
 },
 "nbformat": 4,
 "nbformat_minor": 2
}
