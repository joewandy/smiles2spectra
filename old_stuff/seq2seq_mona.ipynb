{
 "cells": [
  {
   "cell_type": "markdown",
   "metadata": {},
   "source": [
    "# Seq2seq"
   ]
  },
  {
   "cell_type": "code",
   "execution_count": null,
   "metadata": {},
   "outputs": [],
   "source": [
    "%load_ext autoreload\n",
    "%autoreload 2"
   ]
  },
  {
   "cell_type": "code",
   "execution_count": null,
   "metadata": {},
   "outputs": [],
   "source": [
    "import random\n",
    "\n",
    "from IPython.display import display, HTML\n",
    "import pylab as plt\n",
    "import numpy as np\n",
    "\n",
    "from pipeline import *"
   ]
  },
  {
   "cell_type": "markdown",
   "metadata": {},
   "source": [
    "### Test on MoNA data"
   ]
  },
  {
   "cell_type": "code",
   "execution_count": null,
   "metadata": {},
   "outputs": [],
   "source": [
    "num_samples = 10000\n",
    "batch_size = 32\n",
    "epochs = 500\n",
    "latent_dim = 64\n",
    "model_choice = 1\n",
    "\n",
    "label = 'small'\n",
    "data_path = '../data/representation_1/data_%s.txt' % label\n",
    "weights_file = '../models/seq2seq_mona_small_weights.h5'\n",
    "train = False"
   ]
  },
  {
   "cell_type": "code",
   "execution_count": null,
   "metadata": {},
   "outputs": [],
   "source": [
    "X, y = load_data(data_path, num_samples, repeat=10)\n",
    "n_samples = len(X)\n",
    "n_timesteps_in = np.max([len(item) for item in X])\n",
    "n_timesteps_out = np.max([len(item) for item in y])\n",
    "n_features_in = len(set(np.concatenate([item for item in X]).tolist()))\n",
    "n_features_out = len(set(np.concatenate([item for item in y]).tolist()))\n",
    "print(n_timesteps_in, n_timesteps_out, n_features_in, n_features_out)"
   ]
  },
  {
   "cell_type": "code",
   "execution_count": null,
   "metadata": {},
   "outputs": [],
   "source": [
    "encoded_X = encode(X)\n",
    "encoded_y = encode(y)"
   ]
  },
  {
   "cell_type": "code",
   "execution_count": null,
   "metadata": {},
   "outputs": [],
   "source": [
    "if train:\n",
    "    model, additional = get_model(model_choice, latent_dim, \n",
    "                                  encoded_X.max_timesteps, encoded_y.max_timesteps, \n",
    "                                  encoded_X.max_features, encoded_y.max_features)    \n",
    "    train_model(model, encoded_X, encoded_y, model_choice, \n",
    "                latent_dim, batch_size, epochs,\n",
    "                encoded_X.max_timesteps, encoded_y.max_timesteps, \n",
    "                encoded_X.max_features, encoded_y.max_features)\n",
    "    model.save_weights(weights_file)\n",
    "else:\n",
    "    model, additional = get_model(model_choice, latent_dim, \n",
    "                                  encoded_X.max_timesteps, encoded_y.max_timesteps, \n",
    "                                  encoded_X.max_features, encoded_y.max_features,\n",
    "                                  weights_file=weights_file)"
   ]
  },
  {
   "cell_type": "markdown",
   "metadata": {},
   "source": [
    "Check on some training data"
   ]
  },
  {
   "cell_type": "code",
   "execution_count": null,
   "metadata": {},
   "outputs": [],
   "source": [
    "nums = [x for x in range(len(X))]\n",
    "random.shuffle(nums)\n",
    "X_new = []\n",
    "y_new = []\n",
    "for i in nums[0:20]:\n",
    "    X_new.append(X[i])\n",
    "    y_new.append(y[i])\n",
    "X_new = np.array(X_new)\n",
    "y_new = np.array(y_new)"
   ]
  },
  {
   "cell_type": "code",
   "execution_count": null,
   "metadata": {},
   "outputs": [],
   "source": [
    "evaluate_model(X_new, y_new, encoded_X, encoded_y, model, model_choice, additional, sep=',')"
   ]
  },
  {
   "cell_type": "code",
   "execution_count": null,
   "metadata": {},
   "outputs": [],
   "source": []
  }
 ],
 "metadata": {
  "kernelspec": {
   "display_name": "Python [conda env:smiles2spectra]",
   "language": "python",
   "name": "conda-env-smiles2spectra-py"
  },
  "language_info": {
   "codemirror_mode": {
    "name": "ipython",
    "version": 3
   },
   "file_extension": ".py",
   "mimetype": "text/x-python",
   "name": "python",
   "nbconvert_exporter": "python",
   "pygments_lexer": "ipython3",
   "version": "3.6.5"
  }
 },
 "nbformat": 4,
 "nbformat_minor": 2
}
