{
 "cells": [
  {
   "cell_type": "markdown",
   "metadata": {},
   "source": [
    "# Extract Features"
   ]
  },
  {
   "cell_type": "markdown",
   "metadata": {},
   "source": [
    "Extract SMILES and their discretised fragments from the MoNA LC-MS-MS ESI dataset (http://mona.fiehnlab.ucdavis.edu/downloads)"
   ]
  },
  {
   "cell_type": "code",
   "execution_count": 1,
   "metadata": {},
   "outputs": [],
   "source": [
    "import os\n",
    "from glob import glob\n",
    "import zipfile\n",
    "\n",
    "from IPython.display import display, HTML\n",
    "from collections import defaultdict\n",
    "from rdkit import Chem\n",
    "import numpy as np\n",
    "from SmilesEnumerator import SmilesEnumerator"
   ]
  },
  {
   "cell_type": "code",
   "execution_count": 2,
   "metadata": {},
   "outputs": [],
   "source": [
    "def extract_features(zipped_input, msp_file, maxlength_smiles, max_mz, min_intensity, decimal_point, \n",
    "                     mul=10, representation=0):\n",
    "    \n",
    "    smiles_to_intspec = []\n",
    "    seen = set()\n",
    "    with zipfile.ZipFile(zipped_input) as z:\n",
    "        with z.open(msp_file) as f:\n",
    "            state = 0\n",
    "            for line in f:\n",
    "                line = line.decode(\"utf-8\") \n",
    "                line = line.rstrip()\n",
    "                if state == 0 and line.startswith('Name'):\n",
    "                    state = 1            \n",
    "                if state == 1 and line.startswith('Comment'):\n",
    "                    tokens = line.split(' ')\n",
    "                    filtered = [x.replace('\"', '') for x in tokens if 'SMILES' in x]\n",
    "                    smiles = []\n",
    "                    for x in filtered:\n",
    "                        pos = x.find('=')\n",
    "                        smile = x[pos+1:]\n",
    "                        smiles.append(smile)\n",
    "                    intspec = set()\n",
    "                    state = 2            \n",
    "                if state == 2:\n",
    "                    if line.startswith('Name'): # finished processing one block\n",
    "                        if len(smiles) > 0:\n",
    "                            for s in smiles:\n",
    "                                \n",
    "                                if len(s) > maxlength_smiles:\n",
    "                                    continue\n",
    "\n",
    "                                intspec = sorted(list(intspec), key=lambda x: x[0]) # sort by m/z\n",
    "                                mz, intensities = zip(*intspec)\n",
    "                                mz = np.array(mz)\n",
    "                                intensities = np.array(intensities)                                \n",
    "                                if decimal_point == 0:\n",
    "                                    mz = mz.astype(int)\n",
    "                                else:\n",
    "                                    mz = np.round(mz, decimal_point)\n",
    "                                if representation == 0 or representation == 3:\n",
    "                                    intensities = intensities / max(intensities)\n",
    "                                elif representation == 1:\n",
    "                                    intensities = intensities / sum(intensities)\n",
    "                                counts = (intensities * mul).astype(int)\n",
    "                                # print(s)\n",
    "                                # print(mz)\n",
    "                                # print(counts)\n",
    "                                assert(len(intensities) == len(mz))\n",
    "                                assert(len(counts) == len(mz))\n",
    "                                \n",
    "                                filtered_mz = []\n",
    "                                for i in range(len(mz)):\n",
    "                                    if mz[i] < max_mz and intensities[i] > min_intensity:\n",
    "                                        if representation == 0 or representation == 1:\n",
    "                                            # character-level encoding\n",
    "                                            # each m/z value is represented as a character,\n",
    "                                            # with counts proportional to its intensity\n",
    "                                            words = [mz[i]] * counts[i]\n",
    "                                            filtered_mz.extend(words)\n",
    "                                        elif representation == 2:\n",
    "                                            # word-level encoding\n",
    "                                            # each m/z value is represented as a word\n",
    "                                            # intensity information is discarded\n",
    "                                            filtered_mz.append(mz[i])\n",
    "                                        elif representation == 3:\n",
    "                                            # word-level encoding but including intensity\n",
    "                                            # each pair of (m/z, intensity) becomes a word\n",
    "                                            words = [mz[i], intensities[i]]\n",
    "                                            filtered_mz.append(words)\n",
    "                                # print(filtered_mz)\n",
    "                                        \n",
    "                                # RESULT ARE STORED HERE\n",
    "                                item = (s, filtered_mz, )                                                                               \n",
    "                                smiles_to_intspec.append(item)\n",
    "                                seen.add(s)\n",
    "                                # if len(smiles_to_intspec) % 1000 == 0:\n",
    "                                #     print('Added', len(smiles_to_intspec))\n",
    "\n",
    "                        state = 0\n",
    "                    elif len(line) > 0 and line[0].isdigit():\n",
    "                        tokens = line.split(' ')\n",
    "                        mz = float(tokens[0])\n",
    "                        intensity = float(tokens[1])\n",
    "                        intspec.add((mz, intensity,))\n",
    "                        \n",
    "    return smiles_to_intspec"
   ]
  },
  {
   "cell_type": "code",
   "execution_count": 3,
   "metadata": {},
   "outputs": [],
   "source": [
    "def write_data(data, outfile, representation, augment=0):\n",
    "    sme = SmilesEnumerator()\n",
    "    with open(outfile, 'w') as f:\n",
    "        for smiles, original_spectra in data:\n",
    "            \n",
    "            if representation == 3:\n",
    "                spectra = ['(%s %f)' % (mz, intensity) for mz, intensity in original_spectra]\n",
    "                spectra_str = ','.join(map(str, spectra))\n",
    "                output = smiles + '\\t' + spectra_str + '\\n'\n",
    "                f.write(output)                        \n",
    "                \n",
    "                # generate more data if required\n",
    "                for i in range(augment):\n",
    "                    try:\n",
    "                        s = sme.randomize_smiles(smiles) # generate new smiles\n",
    "                        random_num = np.random.random()\n",
    "                        # randomly remove peaks proportional to their intensities                    \n",
    "                        filtered = list(filter(lambda x: x[1] > random_num, original_spectra))\n",
    "                        spectra = ['(%s %f)' % (mz, intensity) for mz, intensity in filtered]                \n",
    "                        spectra_str = ','.join(map(str, spectra))\n",
    "                        output = s + '\\t' + spectra_str + '\\n'\n",
    "                        f.write(output)                    \n",
    "                    except AttributeError:\n",
    "                        continue\n",
    "                \n",
    "            else:\n",
    "                spectra = original_spectra                            \n",
    "                spectra_str = ','.join(map(str, spectra))\n",
    "                output = smiles + '\\t' + spectra_str + '\\n'\n",
    "                f.write(output)                        \n",
    "            \n",
    "        print('Written: %s' % outfile)\n",
    "            "
   ]
  },
  {
   "cell_type": "code",
   "execution_count": 4,
   "metadata": {},
   "outputs": [],
   "source": [
    "msp_file = 'MoNA-export-LC-MS-MS_Positive_Mode.msp'\n",
    "zipped_input = '../data/' + msp_file + '.zip'\n",
    "representations = [0, 1, 2, 3]"
   ]
  },
  {
   "cell_type": "code",
   "execution_count": 5,
   "metadata": {
    "scrolled": true
   },
   "outputs": [
    {
     "name": "stdout",
     "output_type": "stream",
     "text": [
      "Written: ../data/representation_0/data_small.txt\n",
      "Written: ../data/representation_0/data_medium.txt\n",
      "Written: ../data/representation_0/data_large.txt\n",
      "Written: ../data/representation_1/data_small.txt\n",
      "Written: ../data/representation_1/data_medium.txt\n",
      "Written: ../data/representation_1/data_large.txt\n",
      "Written: ../data/representation_2/data_small.txt\n",
      "Written: ../data/representation_2/data_medium.txt\n",
      "Written: ../data/representation_2/data_large.txt\n",
      "Written: ../data/representation_3/data_small.txt\n",
      "Written: ../data/representation_3/data_medium.txt\n",
      "Written: ../data/representation_3/data_large.txt\n"
     ]
    }
   ],
   "source": [
    "for rep in representations:\n",
    "    \n",
    "    if rep == 3:\n",
    "        augment = 3\n",
    "    else:\n",
    "        augment = 0\n",
    "    \n",
    "    # small dataset\n",
    "    data = extract_features(zipped_input, msp_file, maxlength_smiles=30, max_mz=900, min_intensity=0.1, \n",
    "                            decimal_point=3, mul=100, representation=rep)\n",
    "    write_data(data, '../data/representation_%d/data_small.txt' % rep, rep, augment=augment)\n",
    "    \n",
    "    # medium dataset\n",
    "    data = extract_features(zipped_input, msp_file, maxlength_smiles=60, max_mz=900, min_intensity=0.1, \n",
    "                            decimal_point=3, mul=100, representation=rep)\n",
    "    write_data(data, '../data/representation_%d/data_medium.txt' % rep, rep, augment=augment)\n",
    "    \n",
    "    # large dataset\n",
    "    data = extract_features(zipped_input, msp_file, maxlength_smiles=90, max_mz=900, min_intensity=0.1, \n",
    "                            decimal_point=3, mul=100, representation=rep)\n",
    "    write_data(data, '../data/representation_%d/data_large.txt' % rep, rep, augment=augment)"
   ]
  },
  {
   "cell_type": "code",
   "execution_count": null,
   "metadata": {},
   "outputs": [],
   "source": []
  }
 ],
 "metadata": {
  "kernelspec": {
   "display_name": "Python [conda env:smiles2spectra]",
   "language": "python",
   "name": "conda-env-smiles2spectra-py"
  },
  "language_info": {
   "codemirror_mode": {
    "name": "ipython",
    "version": 3
   },
   "file_extension": ".py",
   "mimetype": "text/x-python",
   "name": "python",
   "nbconvert_exporter": "python",
   "pygments_lexer": "ipython3",
   "version": "3.6.5"
  }
 },
 "nbformat": 4,
 "nbformat_minor": 2
}
